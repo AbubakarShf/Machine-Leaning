{
 "cells": [
  {
   "cell_type": "code",
   "execution_count": 2,
   "id": "93b4ee40",
   "metadata": {},
   "outputs": [
    {
     "name": "stdout",
     "output_type": "stream",
     "text": [
      "[5, 2, 3, 4, 1]\n"
     ]
    }
   ],
   "source": [
    "\n",
    "#SwapFunction\n",
    "def swapFunc(list01):\n",
    "    #get length of list\n",
    "    size=len(list01)\n",
    "    #Swapping Algo.\n",
    "    firstElement=list01[0]\n",
    "    LastElement=list01[size-1]\n",
    "    list01[0]=LastElement;\n",
    "    list01[size-1]=firstElement\n",
    "    #return list after changing\n",
    "    return list01\n",
    "\n",
    "#MainFunction\n",
    "list01=[1,2,3,4,5]\n",
    "print(swapFunc(list01))"
   ]
  },
  {
   "cell_type": "code",
   "execution_count": 10,
   "id": "28cb3c2d",
   "metadata": {},
   "outputs": [
    {
     "name": "stdout",
     "output_type": "stream",
     "text": [
      "rld\n"
     ]
    }
   ],
   "source": [
    "string=\"World!\"\n",
    "print(string[-4:-1])"
   ]
  },
  {
   "cell_type": "code",
   "execution_count": 14,
   "id": "cbc6dd26",
   "metadata": {},
   "outputs": [
    {
     "name": "stdout",
     "output_type": "stream",
     "text": [
      "orl\n",
      "orld\n"
     ]
    }
   ],
   "source": [
    "string=\"World!\"\n",
    "print(string[1:4])\n",
    "print(string[1:-1])"
   ]
  },
  {
   "cell_type": "code",
   "execution_count": 13,
   "id": "d1bb5cd2",
   "metadata": {},
   "outputs": [
    {
     "name": "stdout",
     "output_type": "stream",
     "text": [
      "PythonCourse is LIT!\n",
      "PythonCourse\n"
     ]
    }
   ],
   "source": [
    "course=\"PythonCourse\"\n",
    "another=course[:]\n",
    "another+=\" is LIT!\"\n",
    "print(another)\n",
    "print(course[:])"
   ]
  },
  {
   "cell_type": "code",
   "execution_count": 19,
   "id": "053c5ebc",
   "metadata": {},
   "outputs": [
    {
     "name": "stdout",
     "output_type": "stream",
     "text": [
      "hamzakhan\n",
      "Hamza and Khan\n"
     ]
    }
   ],
   "source": [
    "CourseName=\"HamzaKhan\"\n",
    "print(CourseName.casefold())\n",
    "a,b=CourseName.split('K')\n",
    "print(a+\" and K\"+b)"
   ]
  },
  {
   "cell_type": "code",
   "execution_count": 23,
   "id": "5a38ba40",
   "metadata": {},
   "outputs": [
    {
     "name": "stdout",
     "output_type": "stream",
     "text": [
      "~~~~~~~~~~~~~~~~abubakar~~~~~~~~~~~~~~~~\n",
      "Abubakar\n"
     ]
    }
   ],
   "source": [
    "Name=\"abubakar\"\n",
    "print(Name.center(40,\"~\"))\n",
    "print(Name.title())"
   ]
  },
  {
   "cell_type": "code",
   "execution_count": 3,
   "id": "393d7277",
   "metadata": {},
   "outputs": [
    {
     "name": "stdout",
     "output_type": "stream",
     "text": [
      "Enter a number: 4\n",
      "4  X  1  =  4\n",
      "4  X  2  =  8\n",
      "4  X  3  =  12\n",
      "4  X  4  =  16\n",
      "4  X  5  =  20\n",
      "4  X  6  =  24\n",
      "4  X  7  =  28\n",
      "4  X  8  =  32\n",
      "4  X  9  =  36\n",
      "4  X  10  =  40\n"
     ]
    }
   ],
   "source": [
    "digit=int(input(\"Enter a number: \"))\n",
    "\n",
    "# 2x1=2\n",
    "\n",
    "for count in range(1,11):\n",
    "    print(digit,\" X \",count,\" = \",(digit*count))\n",
    "\n",
    "\n"
   ]
  },
  {
   "cell_type": "code",
   "execution_count": 11,
   "id": "be22736c",
   "metadata": {},
   "outputs": [
    {
     "name": "stdout",
     "output_type": "stream",
     "text": [
      "Enter a Number = 1\n",
      "You entered =  1\n",
      "The sum of  1  and  0  is =  1 \n",
      "\n",
      "\n",
      "Enter a Number = 2\n",
      "You entered =  2\n",
      "The sum of  2  and  1  is =  3 \n",
      "\n",
      "\n",
      "Enter a Number = 3\n",
      "You entered =  3\n",
      "The sum of  3  and  3  is =  6 \n",
      "\n",
      "\n",
      "Enter a Number = 4\n",
      "You entered =  4\n",
      "The sum of  4  and  6  is =  10 \n",
      "\n",
      "\n",
      "Enter a Number = 5\n",
      "You entered =  5\n",
      "The sum of  5  and  10  is =  15 \n",
      "\n",
      "\n",
      "Grand Total is =  15\n"
     ]
    }
   ],
   "source": [
    "\n",
    "sum=prev=0\n",
    "i=0\n",
    "while i<5:\n",
    "    value=int(input(\"Enter a Number = \"))\n",
    "    print(\"You entered = \",value)\n",
    "    prev=sum\n",
    "    sum+=value\n",
    "    print(\"The sum of \",value,\" and \",prev,\" is = \",sum,\"\\n\\n\")\n",
    "    i=i+1\n",
    "print(\"Grand Total is = \",sum)"
   ]
  },
  {
   "cell_type": "markdown",
   "id": "f6212936",
   "metadata": {},
   "source": [
    "1\n",
    "1# "
   ]
  },
  {
   "cell_type": "code",
   "execution_count": null,
   "id": "c2b4e565",
   "metadata": {},
   "outputs": [],
   "source": []
  }
 ],
 "metadata": {
  "kernelspec": {
   "display_name": "Python 3",
   "language": "python",
   "name": "python3"
  },
  "language_info": {
   "codemirror_mode": {
    "name": "ipython",
    "version": 3
   },
   "file_extension": ".py",
   "mimetype": "text/x-python",
   "name": "python",
   "nbconvert_exporter": "python",
   "pygments_lexer": "ipython3",
   "version": "3.8.8"
  }
 },
 "nbformat": 4,
 "nbformat_minor": 5
}
